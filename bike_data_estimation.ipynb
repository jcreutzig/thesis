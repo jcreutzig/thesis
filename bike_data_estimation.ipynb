{
 "cells": [
  {
   "cell_type": "markdown",
   "id": "beaf47e2",
   "metadata": {},
   "source": [
    "##  Estimate super-/sub-community membership for TlF CID \n",
    "\n",
    "This notebook runs the temporally stabilized community estimation algorithm, and produces several charts, among others a dashboard \n",
    "sued as basis for our discussion of the estimation results.   "
   ]
  },
  {
   "cell_type": "code",
   "execution_count": null,
   "id": "4a38dbf0",
   "metadata": {},
   "outputs": [],
   "source": [
    "# imports \n",
    "# load adjacency matrices \n",
    "import pandas as pd\n",
    "import numpy as np\n",
    "import matplotlib.pyplot as plt\n",
    "import seaborn as sns\n",
    "import pickle \n",
    "from estimators_cleaned import dynamic_hierarchical_dcsbm_detection_stable\n",
    "from typing import Optional, Tuple\n",
    "from ari_test import HierarchicalCommunityStructure\n",
    "import numpy as np\n"
   ]
  },
  {
   "cell_type": "code",
   "execution_count": null,
   "id": "b6850635",
   "metadata": {},
   "outputs": [],
   "source": [
    "# file names and locations \n",
    "am_pickle_name, result_pickle_name = \"output/am_bikes.pkl\", \"output/bike_results.pkl\"\n"
   ]
  },
  {
   "cell_type": "code",
   "execution_count": null,
   "id": "0d68add1",
   "metadata": {},
   "outputs": [],
   "source": [
    "# load adjacency matrices \n",
    "adjacency_matrices = pickle.load(open(am_pickle_name, \"rb\"))\n",
    "\n",
    "# plot first adjacency matrix \n",
    "plt.figure(figsize=(10, 10))\n",
    "# nicer to print 0 as white, 1 as black -> 1 - A \n",
    "sns.heatmap(1-adjacency_matrices[0], cmap=\"gray\", vmin=0, vmax=1, cbar=False)\n",
    "plt.title(\"First adjacency matrix\")\n",
    "plt.show()\n"
   ]
  },
  {
   "cell_type": "code",
   "execution_count": null,
   "id": "e2e6513c",
   "metadata": {},
   "outputs": [],
   "source": [
    "# Estimator run \n",
    "# Takes about 3 minutes \n",
    "\n",
    "np.random.seed(4321)\n",
    "\n",
    "results = dynamic_hierarchical_dcsbm_detection_stable(\n",
    "    adjacency_matrices, \n",
    "    D=10, \n",
    "    regularization_strength=3.5, \n",
    "    verbose=True\n",
    ")\n",
    "# save to pickle so we can easily load later \n",
    "with open(result_pickle_name, \"wb\") as f:\n",
    "    pickle.dump(results, f)\n",
    "\n"
   ]
  }
 ],
 "metadata": {
  "kernelspec": {
   "display_name": "thesis",
   "language": "python",
   "name": "python3"
  },
  "language_info": {
   "codemirror_mode": {
    "name": "ipython",
    "version": 3
   },
   "file_extension": ".py",
   "mimetype": "text/x-python",
   "name": "python",
   "nbconvert_exporter": "python",
   "pygments_lexer": "ipython3",
   "version": "3.10.16"
  }
 },
 "nbformat": 4,
 "nbformat_minor": 5
}
